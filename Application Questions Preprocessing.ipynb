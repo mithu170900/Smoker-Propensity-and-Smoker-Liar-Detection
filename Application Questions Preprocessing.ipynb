{
 "cells": [
  {
   "cell_type": "markdown",
   "metadata": {},
   "source": [
    "### Yes-No True-False Questions"
   ]
  },
  {
   "cell_type": "code",
   "execution_count": null,
   "metadata": {},
   "outputs": [],
   "source": [
    "def convert_yn_tf_questions(val):\n",
    "    lower_case = val.lower().strip()\n",
    "    if lower_case in ['false', 'n']:\n",
    "        return 0\n",
    "    elif lower_case in ['true', 'y']:\n",
    "        return 1\n",
    "    else:\n",
    "        return 0"
   ]
  },
  {
   "cell_type": "markdown",
   "metadata": {},
   "source": [
    "### Date Last Questions"
   ]
  },
  {
   "cell_type": "code",
   "execution_count": null,
   "metadata": {},
   "outputs": [],
   "source": [
    "def convert_date_questions(val):\n",
    "    if 'M' in val:\n",
    "        number = find_number_in_string(val)\n",
    "        if number is not None:\n",
    "            return number\n",
    "        else:\n",
    "            return 1\n",
    "    elif 'Y' in val:\n",
    "        number = find_number_in_string(val)\n",
    "        if number is not None:\n",
    "            return 12 * number\n",
    "        else:\n",
    "            return 1\n",
    "    \n",
    "def find_number_in_string(val):\n",
    "    numbers = re.findall(r'\\d+', val)\n",
    "    if len(numbers) > 0:\n",
    "        return int(numbers[0])\n",
    "    return None"
   ]
  },
  {
   "cell_type": "markdown",
   "metadata": {},
   "source": [
    "### Numeric Questions"
   ]
  },
  {
   "cell_type": "code",
   "execution_count": null,
   "metadata": {},
   "outputs": [],
   "source": [
    "def convert_numeric_question(val):\n",
    "    try:\n",
    "        float(val)\n",
    "    except ValueError:\n",
    "        return False\n",
    "    return True"
   ]
  },
  {
   "cell_type": "markdown",
   "metadata": {},
   "source": [
    "### Transform"
   ]
  },
  {
   "cell_type": "code",
   "execution_count": null,
   "metadata": {},
   "outputs": [],
   "source": [
    "def transform_yn_tf_columns(X):\n",
    "    X = X[X.teleapp_cd.isin(TELEAPP_YN_TF_QUESTIONS)]\n",
    "    X['rslt_val'] = X.rslt_val.apply(convert_yn_tf_questions)\n",
    "    return X"
   ]
  },
  {
   "cell_type": "code",
   "execution_count": null,
   "metadata": {},
   "outputs": [],
   "source": [
    "def transform_date_columns(X):\n",
    "    X = X[X.teleapp_cd.isin(TELEAPP_DATE_LAST_QUESTIONS)]\n",
    "    X['rslt_val'] = X.rslt_val.apply(convert_date_questions)\n",
    "    return X"
   ]
  },
  {
   "cell_type": "code",
   "execution_count": null,
   "metadata": {},
   "outputs": [],
   "source": [
    "def transform_numeric_columns(X):\n",
    "    X = X[X.teleapp_cd.isin(TELEAPP_NUMERIC_QUESTIONS)]\n",
    "    X['rslt_val'] = X.rslt_val.apply(lambda cell:cell if convert_numeric_question(cell) else None).astype(float)\n",
    "    return X"
   ]
  }
 ],
 "metadata": {
  "kernelspec": {
   "display_name": "Python 3",
   "language": "python",
   "name": "python3"
  },
  "language_info": {
   "codemirror_mode": {
    "name": "ipython",
    "version": 3
   },
   "file_extension": ".py",
   "mimetype": "text/x-python",
   "name": "python",
   "nbconvert_exporter": "python",
   "pygments_lexer": "ipython3",
   "version": "3.7.6"
  }
 },
 "nbformat": 4,
 "nbformat_minor": 4
}
