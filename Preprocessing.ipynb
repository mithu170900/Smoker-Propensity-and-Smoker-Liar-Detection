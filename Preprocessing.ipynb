{
 "cells": [
  {
   "cell_type": "code",
   "execution_count": null,
   "metadata": {},
   "outputs": [],
   "source": [
    "def pivot_app_columns(X, Y):\n",
    "    Y = X.pivot_table(index = ['case_pers_id'], columns = 'app_cd')\n",
    "    Y = X.fillna(0)\n",
    "    X.columns = [x[1] for x in Y.columns]\n",
    "    return Y"
   ]
  },
  {
   "cell_type": "code",
   "execution_count": null,
   "metadata": {},
   "outputs": [],
   "source": [
    "def number_of_zeros_in_each_column(column):\n",
    "    num_zero = (df[[column]] == 0).sum()\n",
    "    return num_zero"
   ]
  },
  {
   "cell_type": "code",
   "execution_count": null,
   "metadata": {},
   "outputs": [],
   "source": [
    "def number_of_empty_in_each_column(column):\n",
    "    num_empty = (df[[column]] == 0).sum()\n",
    "    return num_empty"
   ]
  },
  {
   "cell_type": "code",
   "execution_count": null,
   "metadata": {},
   "outputs": [],
   "source": [
    "def replace_with_UNKNOWN(wrong_value, column):\n",
    "    df[column] = df[column].replace(wrong_value,'UNKNOWN')\n",
    "    return df[column]"
   ]
  },
  {
   "cell_type": "code",
   "execution_count": null,
   "metadata": {},
   "outputs": [],
   "source": [
    "def one_hot_encoding(column):\n",
    "    ohe = OneHotEncoder(cols = [column], use_cat_names = True)\n",
    "    df = ohe.fit_transform(df)\n",
    "    return df"
   ]
  },
  {
   "cell_type": "code",
   "execution_count": null,
   "metadata": {},
   "outputs": [],
   "source": [
    "def split_data(X, y, target_column):\n",
    "    y = df[target_column]\n",
    "    X = df.drop(columns = target_column)\n",
    "    return X, y"
   ]
  },
  {
   "cell_type": "code",
   "execution_count": null,
   "metadata": {},
   "outputs": [],
   "source": [
    "def train_test_split(X_train, X_test, y_train, y_test):\n",
    "    X_train,X_test,y_train,y_test = train_test_split(X,y,test_size=0.10,random_state=1)\n",
    "    return X_train, X_test, y_train, y_test"
   ]
  }
 ],
 "metadata": {
  "kernelspec": {
   "display_name": "Python 3",
   "language": "python",
   "name": "python3"
  },
  "language_info": {
   "codemirror_mode": {
    "name": "ipython",
    "version": 3
   },
   "file_extension": ".py",
   "mimetype": "text/x-python",
   "name": "python",
   "nbconvert_exporter": "python",
   "pygments_lexer": "ipython3",
   "version": "3.7.6"
  }
 },
 "nbformat": 4,
 "nbformat_minor": 4
}
