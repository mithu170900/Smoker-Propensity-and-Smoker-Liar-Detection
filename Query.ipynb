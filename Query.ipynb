{
 "cells": [
  {
   "cell_type": "code",
   "execution_count": null,
   "metadata": {},
   "outputs": [],
   "source": [
    "import logging\n",
    "from pyspark_llap import HiveWarehouseSession\n",
    "from pyspark.sql.functions import *"
   ]
  },
  {
   "cell_type": "code",
   "execution_count": null,
   "metadata": {},
   "outputs": [],
   "source": [
    "class DataPuller:\n",
    "    def __init__(self, spark, hive):\n",
    "        self.spark = spark\n",
    "        self.hive = hive\n",
    "        \n",
    "    def app_info(hive) :\n",
    "    query = \"\"\"\n",
    "        (SQL queries)\n",
    "        \"\"\"\n",
    "    application = hive.executeQuery(query)\n",
    "    application.cache()\n",
    "    return application\n",
    "    \n",
    "    def lab_results(hive, merged):\n",
    "    query = \"\"\"\n",
    "        (SQL queries)\n",
    "        \"\"\"\n",
    "    labs = hive.executeQuery(query)\n",
    "    return labs.join(merged, 'case_pers_id').select(labs.columns)\n",
    "\n",
    "    def prescription_drugs(hive, merged):\n",
    "    query = \"\"\"\n",
    "        (SQL queries)\n",
    "        \"\"\"\n",
    "    prescript = hive.executeQuery(query)\n",
    "    return prescript.join(merged, prescript.pol_pers_id == merged.case_pers_id).select(prescript.columns)\n",
    "\n",
    "    def part_b(hive, merged):\n",
    "    query = \"\"\"\n",
    "        (SQL queries)\n",
    "        \"\"\"\n",
    "    part_b = hive.executeQuery(query)\n",
    "    return part_b.join(merged, 'case_pers_id').select(part_b.columns)\n",
    "\n",
    "    def pull_data(hive):\n",
    "        dataframes = dict()\n",
    "        logging.info(\"Pulling Application Data\")\n",
    "        dataframes['application'] = app_info(hive).toPandas()\n",
    "        logging.info(\"Pulling Lab_Result data\")\n",
    "        dataframes['labs'] = lab_results(hive, application).toPandas()\n",
    "        logging.info(\"Pulling prescription_drug data\")\n",
    "        dataframes['prescript'] = prescription_drugs(hive, application).toPandas()\n",
    "        logging.info(\"Pull Application Part B\")\n",
    "        dataframes['part_b'] = part_b(hive, application).toPandas()\n",
    "        return dataframes"
   ]
  }
 ],
 "metadata": {
  "kernelspec": {
   "display_name": "Python 3",
   "language": "python",
   "name": "python3"
  },
  "language_info": {
   "codemirror_mode": {
    "name": "ipython",
    "version": 3
   },
   "file_extension": ".py",
   "mimetype": "text/x-python",
   "name": "python",
   "nbconvert_exporter": "python",
   "pygments_lexer": "ipython3",
   "version": "3.7.6"
  }
 },
 "nbformat": 4,
 "nbformat_minor": 4
}
